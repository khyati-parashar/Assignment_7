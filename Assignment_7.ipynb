{
 "cells": [
  {
   "cell_type": "markdown",
   "metadata": {},
   "source": [
    "# Assignment 7"
   ]
  },
  {
   "cell_type": "code",
   "execution_count": 1,
   "metadata": {},
   "outputs": [],
   "source": [
    "import numpy as np\n",
    "import pandas as pd"
   ]
  },
  {
   "cell_type": "markdown",
   "metadata": {},
   "source": [
    "### Q1 Write a function so that the columns of the output matrix are powers of the input vector."
   ]
  },
  {
   "cell_type": "code",
   "execution_count": 2,
   "metadata": {},
   "outputs": [],
   "source": [
    "a = np.array([1,2,3,4,5,6,7,8,9,10])"
   ]
  },
  {
   "cell_type": "code",
   "execution_count": 3,
   "metadata": {},
   "outputs": [
    {
     "data": {
      "text/plain": [
       "array([[  1,   1,   1],\n",
       "       [  4,   2,   1],\n",
       "       [  9,   3,   1],\n",
       "       [ 16,   4,   1],\n",
       "       [ 25,   5,   1],\n",
       "       [ 36,   6,   1],\n",
       "       [ 49,   7,   1],\n",
       "       [ 64,   8,   1],\n",
       "       [ 81,   9,   1],\n",
       "       [100,  10,   1]])"
      ]
     },
     "execution_count": 3,
     "metadata": {},
     "output_type": "execute_result"
    }
   ],
   "source": [
    "# inbuilt function vander\n",
    "v = np.vander(a, N=3)\n",
    "v"
   ]
  },
  {
   "cell_type": "code",
   "execution_count": null,
   "metadata": {},
   "outputs": [],
   "source": []
  },
  {
   "cell_type": "code",
   "execution_count": 4,
   "metadata": {},
   "outputs": [],
   "source": [
    "# 1st way to create Vander function\n",
    "\n",
    "def Vander_1(arr, N):\n",
    "    g = np.stack(((arr**(N-i-1) for i in range(N)))).T\n",
    "    print(g)"
   ]
  },
  {
   "cell_type": "code",
   "execution_count": 5,
   "metadata": {},
   "outputs": [
    {
     "name": "stdout",
     "output_type": "stream",
     "text": [
      "[[    1     1     1     1     1]\n",
      " [   16     8     4     2     1]\n",
      " [   81    27     9     3     1]\n",
      " [  256    64    16     4     1]\n",
      " [  625   125    25     5     1]\n",
      " [ 1296   216    36     6     1]\n",
      " [ 2401   343    49     7     1]\n",
      " [ 4096   512    64     8     1]\n",
      " [ 6561   729    81     9     1]\n",
      " [10000  1000   100    10     1]]\n"
     ]
    },
    {
     "name": "stderr",
     "output_type": "stream",
     "text": [
      "/home/khyati/.local/lib/python3.8/site-packages/IPython/core/interactiveshell.py:3417: FutureWarning: arrays to stack must be passed as a \"sequence\" type such as list or tuple. Support for non-sequence iterables such as generators is deprecated as of NumPy 1.16 and will raise an error in the future.\n",
      "  exec(code_obj, self.user_global_ns, self.user_ns)\n"
     ]
    }
   ],
   "source": [
    "f = np.array([1,2,3,4,5,6,7,8,9,10])\n",
    "N = 5\n",
    "Vander_1(f, N)"
   ]
  },
  {
   "cell_type": "code",
   "execution_count": null,
   "metadata": {},
   "outputs": [],
   "source": []
  },
  {
   "cell_type": "code",
   "execution_count": 6,
   "metadata": {},
   "outputs": [],
   "source": [
    "# 2nd way to create Vander function\n",
    "\n",
    "def Vander_2(arr, N):\n",
    "    arr = arr.reshape(len(arr),-1)\n",
    "    g = np.stack(((f**(N-i-1) for i in range(N))), axis=1).reshape(len(arr),N)\n",
    "    print(g)"
   ]
  },
  {
   "cell_type": "code",
   "execution_count": 7,
   "metadata": {},
   "outputs": [
    {
     "name": "stdout",
     "output_type": "stream",
     "text": [
      "[[  1   1   1]\n",
      " [  4   2   1]\n",
      " [  9   3   1]\n",
      " [ 16   4   1]\n",
      " [ 25   5   1]\n",
      " [ 36   6   1]\n",
      " [ 49   7   1]\n",
      " [ 64   8   1]\n",
      " [ 81   9   1]\n",
      " [100  10   1]]\n"
     ]
    }
   ],
   "source": [
    "f = np.array([1,2,3,4,5,6,7,8,9,10])\n",
    "N = 3\n",
    "Vander_2(f, N)"
   ]
  },
  {
   "cell_type": "code",
   "execution_count": null,
   "metadata": {},
   "outputs": [],
   "source": []
  },
  {
   "cell_type": "code",
   "execution_count": null,
   "metadata": {},
   "outputs": [],
   "source": []
  },
  {
   "cell_type": "markdown",
   "metadata": {},
   "source": [
    "### Q2 Write a function to find moving average in an array over a window: Test it over [3, 5, 7, 2, 8, 10, 11, 65, 72, 81, 99, 100, 150] and window of 3."
   ]
  },
  {
   "cell_type": "code",
   "execution_count": 8,
   "metadata": {},
   "outputs": [],
   "source": [
    "def moving_avg(List, N):\n",
    "    cumsum = [0]\n",
    "    mov_avg = []\n",
    "    \n",
    "    for i, x in enumerate(List, start=1):\n",
    "        cumsum.append(cumsum[i-1] + x)\n",
    "        if i>=N:\n",
    "            mov_avg.append(round((cumsum[i] - cumsum[i-N])/N, 3))\n",
    "            \n",
    "    print(mov_avg)\n",
    "    print(f\"The length of the list {len(List)-N+1}\")"
   ]
  },
  {
   "cell_type": "code",
   "execution_count": 9,
   "metadata": {},
   "outputs": [
    {
     "name": "stdout",
     "output_type": "stream",
     "text": [
      "[5.0, 4.667, 5.667, 6.667, 9.667, 28.667, 49.333, 72.667, 84.0, 93.333, 116.333]\n",
      "The length of the list 11\n"
     ]
    }
   ],
   "source": [
    "a = [3, 5, 7, 2, 8, 10, 11, 65, 72, 81, 99, 100, 150]\n",
    "n = 3\n",
    "moving_avg(a,n)"
   ]
  },
  {
   "cell_type": "code",
   "execution_count": null,
   "metadata": {},
   "outputs": [],
   "source": []
  }
 ],
 "metadata": {
  "kernelspec": {
   "display_name": "Python 3",
   "language": "python",
   "name": "python3"
  },
  "language_info": {
   "codemirror_mode": {
    "name": "ipython",
    "version": 3
   },
   "file_extension": ".py",
   "mimetype": "text/x-python",
   "name": "python",
   "nbconvert_exporter": "python",
   "pygments_lexer": "ipython3",
   "version": "3.8.5"
  }
 },
 "nbformat": 4,
 "nbformat_minor": 4
}
